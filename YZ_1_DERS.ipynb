{
  "nbformat": 4,
  "nbformat_minor": 0,
  "metadata": {
    "colab": {
      "provenance": []
    },
    "kernelspec": {
      "name": "python3",
      "display_name": "Python 3"
    },
    "language_info": {
      "name": "python"
    }
  },
  "cells": [
    {
      "cell_type": "markdown",
      "source": [
        "03.10.2024 - IGU MYO YAPAY ZEKA DERSI ILK CIKTISI"
      ],
      "metadata": {
        "id": "oPU7UDT0f-XD"
      }
    },
    {
      "cell_type": "code",
      "source": [
        "print(\"Merhaba IGU YZ - MYO BILGISAYAR TEKNOLOJISI PROG.\") # IGU MYO"
      ],
      "metadata": {
        "colab": {
          "base_uri": "https://localhost:8080/"
        },
        "id": "Z32z1d5YfAWE",
        "outputId": "e52575cd-4b30-4493-ee1d-6ac170e25d9a"
      },
      "execution_count": 2,
      "outputs": [
        {
          "output_type": "stream",
          "name": "stdout",
          "text": [
            "Merhaba IGU YZ - MYO BILGISAYAR TEKNOLOJISI PROG.\n"
          ]
        }
      ]
    },
    {
      "cell_type": "code",
      "source": [
        "import sys # import python programlama dilinde yazılıma kütüphane eklemeye yarayan bir kod blogudur.\n",
        "print(sys.version)"
      ],
      "metadata": {
        "colab": {
          "base_uri": "https://localhost:8080/"
        },
        "id": "jMbFxTNeqTu0",
        "outputId": "5f2907b0-7a5c-4294-a49c-253f736e49d2"
      },
      "execution_count": 3,
      "outputs": [
        {
          "output_type": "stream",
          "name": "stdout",
          "text": [
            "3.10.12 (main, Sep 11 2024, 15:47:36) [GCC 11.4.0]\n"
          ]
        }
      ]
    }
  ]
}